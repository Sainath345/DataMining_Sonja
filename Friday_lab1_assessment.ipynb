{
  "nbformat": 4,
  "nbformat_minor": 0,
  "metadata": {
    "colab": {
      "name": "Untitled0.ipynb",
      "provenance": [],
      "authorship_tag": "ABX9TyN+U0gl8+uvsFKQ8rZOtUXn",
      "include_colab_link": true
    },
    "kernelspec": {
      "name": "python3",
      "display_name": "Python 3"
    },
    "language_info": {
      "name": "python"
    }
  },
  "cells": [
    {
      "cell_type": "markdown",
      "metadata": {
        "id": "view-in-github",
        "colab_type": "text"
      },
      "source": [
        "<a href=\"https://colab.research.google.com/github/Sainath345/Rasaputra_IT533/blob/Sainath345-IPL/Friday_lab1_assessment.ipynb\" target=\"_parent\"><img src=\"https://colab.research.google.com/assets/colab-badge.svg\" alt=\"Open In Colab\"/></a>"
      ]
    },
    {
      "cell_type": "code",
      "metadata": {
        "id": "BLF_gpb9c0Re"
      },
      "source": [
        "import numpy as np\n",
        "import pandas as pd \n",
        "import matplotlib.pyplot as plt"
      ],
      "execution_count": 44,
      "outputs": []
    },
    {
      "cell_type": "code",
      "metadata": {
        "id": "FKl3CYZgerxC"
      },
      "source": [
        "Ball_by_Ball = pd.read_csv(\"https://raw.githubusercontent.com/Sainath345/Rasaputra_IT533/main/Ball_by_Ball.csv\")\n",
        "Match = pd.read_csv(\"https://raw.githubusercontent.com/Sainath345/Rasaputra_IT533/main/Match.csv\")\n",
        "Player = pd.read_csv(\"https://raw.githubusercontent.com/Sainath345/Rasaputra_IT533/main/Player.csv\")\n",
        "Player_Match = pd.read_csv(\"https://raw.githubusercontent.com/Sainath345/Rasaputra_IT533/main/Player_Match.csv\")\n",
        "Season = pd.read_csv(\"https://raw.githubusercontent.com/Sainath345/Rasaputra_IT533/main/Season.csv\")\n",
        "Team = pd.read_csv(\"https://raw.githubusercontent.com/Sainath345/Rasaputra_IT533/main/Team.csv\")"
      ],
      "execution_count": 45,
      "outputs": []
    },
    {
      "cell_type": "code",
      "metadata": {
        "colab": {
          "base_uri": "https://localhost:8080/"
        },
        "id": "RY7ZOnsme1aP",
        "outputId": "e58905e2-6092-4970-d7d2-aea9fe1cb405"
      },
      "source": [
        "Ball_by_Ball.columns"
      ],
      "execution_count": 46,
      "outputs": [
        {
          "output_type": "execute_result",
          "data": {
            "text/plain": [
              "Index(['Match_Id', 'Innings_Id', 'Over_Id', 'Ball_Id', 'Team_Batting_Id',\n",
              "       'Team_Bowling_Id', 'Striker_Id', 'Striker_Batting_Position',\n",
              "       'Non_Striker_Id', 'Bowler_Id', 'Batsman_Scored', 'Extra_Type',\n",
              "       'Extra_Runs', 'Player_dissimal_Id', 'Dissimal_Type', 'Fielder_Id'],\n",
              "      dtype='object')"
            ]
          },
          "metadata": {
            "tags": []
          },
          "execution_count": 46
        }
      ]
    },
    {
      "cell_type": "code",
      "metadata": {
        "colab": {
          "base_uri": "https://localhost:8080/"
        },
        "id": "AhCD7gqVhWV2",
        "outputId": "f4c89d3a-03b4-4e80-f6c8-0b026e39314d"
      },
      "source": [
        "Ball_by_Ball.dtypes"
      ],
      "execution_count": 48,
      "outputs": [
        {
          "output_type": "execute_result",
          "data": {
            "text/plain": [
              "Match_Id                     int64\n",
              "Innings_Id                   int64\n",
              "Over_Id                      int64\n",
              "Ball_Id                      int64\n",
              "Team_Batting_Id              int64\n",
              "Team_Bowling_Id              int64\n",
              "Striker_Id                   int64\n",
              "Striker_Batting_Position     int64\n",
              "Non_Striker_Id               int64\n",
              "Bowler_Id                    int64\n",
              "Batsman_Scored              object\n",
              "Extra_Type                  object\n",
              "Extra_Runs                  object\n",
              "Player_dissimal_Id          object\n",
              "Dissimal_Type               object\n",
              "Fielder_Id                  object\n",
              "dtype: object"
            ]
          },
          "metadata": {
            "tags": []
          },
          "execution_count": 48
        }
      ]
    },
    {
      "cell_type": "code",
      "metadata": {
        "id": "7Yf_z2FmoLMd"
      },
      "source": [
        "Ball_by_Ball[\"Batsman_Scored\"] = Ball_by_Ball[\"Batsman_Scored\"].apply (pd.to_numeric, errors='coerce')"
      ],
      "execution_count": 52,
      "outputs": []
    },
    {
      "cell_type": "code",
      "metadata": {
        "id": "pK1rIpltsaQw"
      },
      "source": [
        "Ball_by_Ball.isnull().sum()\n",
        "Ball_by_Ball.dropna(how='any', inplace=True)"
      ],
      "execution_count": 62,
      "outputs": []
    },
    {
      "cell_type": "code",
      "metadata": {
        "colab": {
          "base_uri": "https://localhost:8080/"
        },
        "id": "XNv6yUmIiOA2",
        "outputId": "e1f7d826-1bf9-4d98-d6d2-db569d7fdcfb"
      },
      "source": [
        "Ball_by_Ball.dtypes"
      ],
      "execution_count": 71,
      "outputs": [
        {
          "output_type": "execute_result",
          "data": {
            "text/plain": [
              "Match_Id                     int64\n",
              "Innings_Id                   int64\n",
              "Over_Id                      int64\n",
              "Ball_Id                      int64\n",
              "Team_Batting_Id              int64\n",
              "Team_Bowling_Id              int64\n",
              "Striker_Id                   int64\n",
              "Striker_Batting_Position     int64\n",
              "Non_Striker_Id               int64\n",
              "Bowler_Id                    int64\n",
              "Batsman_Scored               int64\n",
              "Extra_Type                  object\n",
              "Extra_Runs                  object\n",
              "Player_dissimal_Id          object\n",
              "Dissimal_Type               object\n",
              "Fielder_Id                  object\n",
              "dtype: object"
            ]
          },
          "metadata": {
            "tags": []
          },
          "execution_count": 71
        }
      ]
    },
    {
      "cell_type": "code",
      "metadata": {
        "id": "_WTw5ifohUY8"
      },
      "source": [
        "Ball_by_Ball['Batsman_Scored'] = Ball_by_Ball['Batsman_Scored'].astype(int)"
      ],
      "execution_count": 70,
      "outputs": []
    },
    {
      "cell_type": "code",
      "metadata": {
        "colab": {
          "base_uri": "https://localhost:8080/"
        },
        "id": "2UPT9kdjmRBY",
        "outputId": "74488b4c-e146-40d2-fc0f-4fdc8721ad44"
      },
      "source": [
        "Ball_by_Ball.dtypes"
      ],
      "execution_count": 24,
      "outputs": [
        {
          "output_type": "execute_result",
          "data": {
            "text/plain": [
              "Match_Id                     int64\n",
              "Innings_Id                   int64\n",
              "Over_Id                      int64\n",
              "Ball_Id                      int64\n",
              "Team_Batting_Id              int64\n",
              "Team_Bowling_Id              int64\n",
              "Striker_Id                   int64\n",
              "Striker_Batting_Position     int64\n",
              "Non_Striker_Id               int64\n",
              "Bowler_Id                    int64\n",
              "Batsman_Scored              object\n",
              "Extra_Type                  object\n",
              "Extra_Runs                  object\n",
              "Player_dissimal_Id          object\n",
              "Dissimal_Type               object\n",
              "Fielder_Id                  object\n",
              "dtype: object"
            ]
          },
          "metadata": {
            "tags": []
          },
          "execution_count": 24
        }
      ]
    },
    {
      "cell_type": "code",
      "metadata": {
        "colab": {
          "base_uri": "https://localhost:8080/"
        },
        "id": "Lhcd1OTddd5o",
        "outputId": "4a903ec9-037e-4efe-b4be-c845196573c9"
      },
      "source": [
        "\n",
        "Ball_by_Ball['Batsman_Scored'].describe()"
      ],
      "execution_count": 75,
      "outputs": [
        {
          "output_type": "execute_result",
          "data": {
            "text/plain": [
              "count    136564.000000\n",
              "mean          1.215181\n",
              "std           1.589433\n",
              "min           0.000000\n",
              "25%           0.000000\n",
              "50%           1.000000\n",
              "75%           1.000000\n",
              "max           6.000000\n",
              "Name: Batsman_Scored, dtype: float64"
            ]
          },
          "metadata": {
            "tags": []
          },
          "execution_count": 75
        }
      ]
    },
    {
      "cell_type": "code",
      "metadata": {
        "colab": {
          "base_uri": "https://localhost:8080/",
          "height": 415
        },
        "id": "w4RUiYL7fbU-",
        "outputId": "60f75b65-b355-49e7-9d44-ed9d0baa2045"
      },
      "source": [
        "fig1, ax1 = plt.subplots()\n",
        "ax1.set_title('Box Plot')\n",
        "ax1.boxplot(Ball_by_Ball.Batsman_Scored)"
      ],
      "execution_count": 77,
      "outputs": [
        {
          "output_type": "execute_result",
          "data": {
            "text/plain": [
              "{'boxes': [<matplotlib.lines.Line2D at 0x7f8a31a26f50>],\n",
              " 'caps': [<matplotlib.lines.Line2D at 0x7f8a31a48f50>,\n",
              "  <matplotlib.lines.Line2D at 0x7f8a31a194d0>],\n",
              " 'fliers': [<matplotlib.lines.Line2D at 0x7f8a31a19f90>],\n",
              " 'means': [],\n",
              " 'medians': [<matplotlib.lines.Line2D at 0x7f8a31a19a50>],\n",
              " 'whiskers': [<matplotlib.lines.Line2D at 0x7f8a31a484d0>,\n",
              "  <matplotlib.lines.Line2D at 0x7f8a31a48a10>]}"
            ]
          },
          "metadata": {
            "tags": []
          },
          "execution_count": 77
        },
        {
          "output_type": "display_data",
          "data": {
            "image/png": "[encoded data removed]",
            "text/plain": [
              "<Figure size 432x288 with 1 Axes>"
            ]
          },
          "metadata": {
            "tags": [],
            "needs_background": "light"
          }
        }
      ]
    },
    {
      "cell_type": "code",
      "metadata": {
        "colab": {
          "base_uri": "https://localhost:8080/",
          "height": 283
        },
        "id": "KcGsN_J_k1TP",
        "outputId": "d2c2926d-8b6e-406a-95d5-bccedd1c2459"
      },
      "source": [
        "Ball_by_Ball.boxplot('Batsman_Scored')"
      ],
      "execution_count": 79,
      "outputs": [
        {
          "output_type": "execute_result",
          "data": {
            "text/plain": [
              "<matplotlib.axes._subplots.AxesSubplot at 0x7f8a319a8990>"
            ]
          },
          "metadata": {
            "tags": []
          },
          "execution_count": 79
        },
        {
          "output_type": "display_data",
          "data": {
            "image/png": "[encoded data removed]",
            "text/plain": [
              "<Figure size 432x288 with 1 Axes>"
            ]
          },
          "metadata": {
            "tags": [],
            "needs_background": "light"
          }
        }
      ]
    },
    {
      "cell_type": "code",
      "metadata": {
        "colab": {
          "base_uri": "https://localhost:8080/"
        },
        "id": "MTGl2h7NlT_Q",
        "outputId": "92002489-d360-4058-c9c7-d6a9da200df1"
      },
      "source": [
        "Match.columns"
      ],
      "execution_count": 80,
      "outputs": [
        {
          "output_type": "execute_result",
          "data": {
            "text/plain": [
              "Index(['Match_Id', 'Match_Date', 'Team_Name_Id', 'Opponent_Team_Id',\n",
              "       'Season_Id', 'Venue_Name', 'Toss_Winner_Id', 'Toss_Decision',\n",
              "       'IS_Superover', 'IS_Result', 'Is_DuckWorthLewis', 'Win_Type', 'Won_By',\n",
              "       'Match_Winner_Id', 'Man_Of_The_Match_Id', 'First_Umpire_Id',\n",
              "       'Second_Umpire_Id', 'City_Name', 'Host_Country'],\n",
              "      dtype='object')"
            ]
          },
          "metadata": {
            "tags": []
          },
          "execution_count": 80
        }
      ]
    },
    {
      "cell_type": "code",
      "metadata": {
        "colab": {
          "base_uri": "https://localhost:8080/"
        },
        "id": "N2SLD52coDEu",
        "outputId": "9a238f75-22cd-4228-ac43-0ee1868e34e1"
      },
      "source": [
        "Player.columns"
      ],
      "execution_count": 81,
      "outputs": [
        {
          "output_type": "execute_result",
          "data": {
            "text/plain": [
              "Index(['Player_Id', 'Player_Name', 'DOB', 'Batting_Hand', 'Bowling_Skill',\n",
              "       'Country', 'Is_Umpire', 'Unnamed: 7'],\n",
              "      dtype='object')"
            ]
          },
          "metadata": {
            "tags": []
          },
          "execution_count": 81
        }
      ]
    },
    {
      "cell_type": "code",
      "metadata": {
        "colab": {
          "base_uri": "https://localhost:8080/"
        },
        "id": "ScXjQmTboI2I",
        "outputId": "6f6a68ea-6319-4452-de80-9086aa12aad3"
      },
      "source": [
        "Player_Match.columns"
      ],
      "execution_count": 82,
      "outputs": [
        {
          "output_type": "execute_result",
          "data": {
            "text/plain": [
              "Index(['Match_Id', 'Player_Id', 'Team_Id', 'Is_Keeper', 'Is_Captain'], dtype='object')"
            ]
          },
          "metadata": {
            "tags": []
          },
          "execution_count": 82
        }
      ]
    },
    {
      "cell_type": "code",
      "metadata": {
        "colab": {
          "base_uri": "https://localhost:8080/"
        },
        "id": "hyHuNr79oMgv",
        "outputId": "79336b8a-f281-4e82-9158-c40b4ecb041c"
      },
      "source": [
        "Season.columns"
      ],
      "execution_count": 83,
      "outputs": [
        {
          "output_type": "execute_result",
          "data": {
            "text/plain": [
              "Index(['Season_Id', 'Season_Year', 'Orange_Cap_Id', 'Purple_Cap_Id',\n",
              "       'Man_of_the_Series_Id'],\n",
              "      dtype='object')"
            ]
          },
          "metadata": {
            "tags": []
          },
          "execution_count": 83
        }
      ]
    },
    {
      "cell_type": "code",
      "metadata": {
        "colab": {
          "base_uri": "https://localhost:8080/"
        },
        "id": "jWXIvo6SoQaV",
        "outputId": "5b490799-94da-46ee-dcd8-24514dc8812c"
      },
      "source": [
        "Team.columns"
      ],
      "execution_count": 84,
      "outputs": [
        {
          "output_type": "execute_result",
          "data": {
            "text/plain": [
              "Index(['Team_Id', 'Team_Name', 'Team_Short_Code'], dtype='object')"
            ]
          },
          "metadata": {
            "tags": []
          },
          "execution_count": 84
        }
      ]
    },
    {
      "cell_type": "markdown",
      "metadata": {
        "id": "8GDFY6eLoWoq"
      },
      "source": [
        "I do not see any meaningful numeric attribute in our database. All are just ID fields which has no meaning in terms of statisticts. I will be doing friday lab assessment on adult data set for time being."
      ]
    },
    {
      "cell_type": "code",
      "metadata": {
        "id": "G3LT9uoPoURi"
      },
      "source": [
        "df_flab = pd.read_csv(\"https://raw.githubusercontent.com/Sainath345/Rasaputra_IT533/main/adult.data.simplified%20(1).csv\")\n"
      ],
      "execution_count": 85,
      "outputs": []
    },
    {
      "cell_type": "code",
      "metadata": {
        "colab": {
          "base_uri": "https://localhost:8080/"
        },
        "id": "4j0fmffRpEk3",
        "outputId": "6dfdfff5-a0e5-4950-b0d4-31875424a3f5"
      },
      "source": [
        "df_flab.hoursperweek.describe()"
      ],
      "execution_count": 87,
      "outputs": [
        {
          "output_type": "execute_result",
          "data": {
            "text/plain": [
              "count    32561.000000\n",
              "mean        40.437456\n",
              "std         12.347429\n",
              "min          1.000000\n",
              "25%         40.000000\n",
              "50%         40.000000\n",
              "75%         45.000000\n",
              "max         99.000000\n",
              "Name: hoursperweek, dtype: float64"
            ]
          },
          "metadata": {
            "tags": []
          },
          "execution_count": 87
        }
      ]
    },
    {
      "cell_type": "code",
      "metadata": {
        "colab": {
          "base_uri": "https://localhost:8080/"
        },
        "id": "9YKLZMLUpIip",
        "outputId": "5bb1b923-1178-4065-865f-1ba6cb9ae98a"
      },
      "source": [
        "df_flab.incomeUSD.describe()"
      ],
      "execution_count": 88,
      "outputs": [
        {
          "output_type": "execute_result",
          "data": {
            "text/plain": [
              "count     32561.000000\n",
              "mean      56583.900587\n",
              "std       44374.594314\n",
              "min       20002.000000\n",
              "25%       29994.000000\n",
              "50%       39732.000000\n",
              "75%       49631.000000\n",
              "max      199965.000000\n",
              "Name: incomeUSD, dtype: float64"
            ]
          },
          "metadata": {
            "tags": []
          },
          "execution_count": 88
        }
      ]
    },
    {
      "cell_type": "code",
      "metadata": {
        "colab": {
          "base_uri": "https://localhost:8080/"
        },
        "id": "KO3ZSgSHpjP-",
        "outputId": "8b7bae81-f153-4fd5-efae-5c83efee832f"
      },
      "source": [
        "import scipy.spatial.distance as dist\n",
        "df_flab_2 = Ball_by_Ball.Batsman_Scored[:32561]\n",
        "point1 = np.array((df_flab_2))\n",
        "point2 = np.array((df_flab.incomeUSD))\n",
        "\n",
        "print (\"Manhattan Distance between Batsman_Scored and incomeUSD:\", dist.cityblock(point1,point2))"
      ],
      "execution_count": 92,
      "outputs": [
        {
          "output_type": "stream",
          "text": [
            "Manhattan Distance between Batsman_Scored and incomeUSD: 1842389432\n"
          ],
          "name": "stdout"
        }
      ]
    },
    {
      "cell_type": "code",
      "metadata": {
        "colab": {
          "base_uri": "https://localhost:8080/"
        },
        "id": "poQ9jtypp9Kh",
        "outputId": "166937f8-b593-41d0-871f-e4175645422f"
      },
      "source": [
        "point3 = np.array((df_flab.hoursperweek))\n",
        "print (\"Manhattan Distance between Batsman_Scored and hoursperweek:\", dist.cityblock(point1,point3))"
      ],
      "execution_count": 95,
      "outputs": [
        {
          "output_type": "stream",
          "text": [
            "Manhattan Distance between Batsman_Scored and hoursperweek: 1277789\n"
          ],
          "name": "stdout"
        }
      ]
    },
    {
      "cell_type": "markdown",
      "metadata": {
        "id": "98dzACzSsIh5"
      },
      "source": [
        "**INTERPRETATION**\n",
        "\n"
      ]
    },
    {
      "cell_type": "markdown",
      "metadata": {
        "id": "lcgNbV7tsayS"
      },
      "source": [
        "1. I have taken all columns present in ball by ball csv file to find which one will used as Class attribute. I find that Ball scored can be used for doing that. So then I found that ball scored is object data type and it contains "
      ]
    },
    {
      "cell_type": "code",
      "metadata": {
        "id": "xMSjfX6PrV_f"
      },
      "source": [
        ""
      ],
      "execution_count": null,
      "outputs": []
    }
  ]
}